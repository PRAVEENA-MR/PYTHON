{
 "cells": [
  {
   "cell_type": "code",
   "execution_count": 45,
   "id": "15a6631b-8963-43cf-8b0a-21f8a54406f4",
   "metadata": {},
   "outputs": [],
   "source": [
    "''' Build a program to manage a university's course catalog. You want to define a base class Course that has the following properties:\n",
    "course_code: a string representing the course code (e.g., \"CS101\")\n",
    "course_name: a string representing the course name (e.g., \"Introduction to Computer Science\")\n",
    "credit_hours: an integer representing the credit hours for the course (e.g., 3)\n",
    "You also want to define two subclasses CoreCourse and ElectiveCourse, which inherit from the Course class.\n",
    "CoreCourse should have an additional property required_for_major which is a boolean representing whether the course is required for a particular major.\n",
    "ElectiveCourse should have an additional property elective_type which is a string representing the type of elective (e.g., \"general\", \"technical\",\n",
    "\"liberal arts\"). '''\n",
    "\n",
    "class Course:\n",
    "    def __init__(self,course_code,course_name,credit_hours):\n",
    "        self.course_code=course_code\n",
    "        self.course_name=course_name\n",
    "        self.credit_hours=credit_hours\n",
    "    \n",
    "class CoreCourse(Course):\n",
    "    def __int__(self,r):\n",
    "        self.required_for_major=r\n",
    "    def displayCC(self):\n",
    "        print(self.required_for_major)   \n",
    "        \n",
    "class ElectiveCourse(Course):\n",
    "    def __int__(self,e):\n",
    "        self.elective_type=e\n",
    "   "
   ]
  },
  {
   "cell_type": "code",
   "execution_count": 77,
   "id": "ac7cf5f9-567a-43dc-9128-349d71d4f9d9",
   "metadata": {},
   "outputs": [],
   "source": [
    "''' Create a Python module named employee that contains a class Employee with attributes name, salary and methods get_name() and get_salary().\n",
    "Write a program to use this module to create an object of the Employee class and display its name and salary. '''\n",
    "\n",
    "class Employee:\n",
    "    def __init__(self,name,salary):\n",
    "        self.name=name\n",
    "        self.salary=salary\n",
    "        \n",
    "    def get_name(self):\n",
    "        return self.name\n",
    "        \n",
    "    def get_salary(self):\n",
    "        return self.salary        ### save this module as Employee.py \n",
    "        \n",
    "\n"
   ]
  },
  {
   "cell_type": "code",
   "execution_count": 82,
   "id": "2b102c58-fcdd-444d-8a68-fd2c5e7b22d9",
   "metadata": {},
   "outputs": [
    {
     "name": "stdin",
     "output_type": "stream",
     "text": [
      "Enter name anu\n",
      "Enter salary 450000\n"
     ]
    },
    {
     "name": "stdout",
     "output_type": "stream",
     "text": [
      "your name is: anu\n",
      "your salary is  450000\n"
     ]
    }
   ],
   "source": [
    "## import Employee module \n",
    "import Employee as e\n",
    "\n",
    "name=input(\"Enter name\")\n",
    "salary=int(input(\"Enter salary\"))\n",
    "\n",
    "emp=Employee(name,salary) ## creating object\n",
    "\n",
    "print(\"your name is:\",emp.get_name()) # calling methods and displaying values of attributes using object of class Employee\n",
    "print(\"your salary is \",emp.get_salary())\n"
   ]
  },
  {
   "cell_type": "code",
   "execution_count": null,
   "id": "4062d617-004c-40e0-a96d-c5f312a4a975",
   "metadata": {},
   "outputs": [],
   "source": []
  }
 ],
 "metadata": {
  "kernelspec": {
   "display_name": "Python 3 (ipykernel)",
   "language": "python",
   "name": "python3"
  },
  "language_info": {
   "codemirror_mode": {
    "name": "ipython",
    "version": 3
   },
   "file_extension": ".py",
   "mimetype": "text/x-python",
   "name": "python",
   "nbconvert_exporter": "python",
   "pygments_lexer": "ipython3",
   "version": "3.12.7"
  }
 },
 "nbformat": 4,
 "nbformat_minor": 5
}
