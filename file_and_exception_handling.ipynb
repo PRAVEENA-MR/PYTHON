{
 "cells": [
  {
   "cell_type": "code",
   "execution_count": 78,
   "id": "b28309f6-8ab6-414d-acaa-85b2a476e443",
   "metadata": {},
   "outputs": [
    {
     "data": {
      "text/plain": [
       "'Python 3 is a high-level, interpreted programming language that was developed by Guido van Rossum and first released in 1991. It is known for its simplicity and readability, making it an ideal choice for both beginners and experienced developers\\nPython 3 is an updated version of Python 2, with several improvements and new features that are not backward compatible with Python 2\\n\\n'"
      ]
     },
     "execution_count": 78,
     "metadata": {},
     "output_type": "execute_result"
    }
   ],
   "source": [
    "# Write a Python program to read a file and display its contents\n",
    "f1=open(\"new_doc.txt\",\"r\")\n",
    "f1.read()\n",
    "f1.close()"
   ]
  },
  {
   "cell_type": "code",
   "execution_count": 1,
   "id": "a4a6f34b-b950-4b4f-bcb6-810b49d64952",
   "metadata": {},
   "outputs": [
    {
     "name": "stdout",
     "output_type": "stream",
     "text": [
      "\n"
     ]
    }
   ],
   "source": [
    "## Write a Python program to copy the contents of one file to another file\n",
    "with open(\"new_doc.txt\") as file1:\n",
    "    data=file1.read()\n",
    "    print(data)\n"
   ]
  },
  {
   "cell_type": "code",
   "execution_count": 14,
   "id": "268653b2-8081-4f72-86e1-d6fd849c14c2",
   "metadata": {},
   "outputs": [
    {
     "name": "stdout",
     "output_type": "stream",
     "text": [
      "62\n"
     ]
    }
   ],
   "source": [
    "#Write a Python program to read the content of a file and count the total number of words in that file.\n",
    "\n",
    "with open(\"new_doc.txt\") as file1:\n",
    "    data=file1.read()\n",
    "    words=data.split()\n",
    "    w_count=len(words)\n",
    "    print(w_count)"
   ]
  },
  {
   "cell_type": "code",
   "execution_count": 23,
   "id": "e07f8178-2be4-4fb9-af3b-9c8bce930d9b",
   "metadata": {},
   "outputs": [
    {
     "name": "stdin",
     "output_type": "stream",
     "text": [
      "Enter number: j\n"
     ]
    },
    {
     "name": "stdout",
     "output_type": "stream",
     "text": [
      "This is not a number\n"
     ]
    }
   ],
   "source": [
    "# Write a Python program that prompts the user to input a string and converts it to an integer.\n",
    "# Use try-except blocks to handle any exceptions that might occur\n",
    "\n",
    "s_no=input(\"Enter number:\")\n",
    "try:\n",
    "    n=int(s_no)\n",
    "    print(n)\n",
    "except ValueError:\n",
    "    print(\"This is not a number\")\n",
    "    \n"
   ]
  },
  {
   "cell_type": "markdown",
   "id": "74499ffb-8db9-4d37-a661-15cdd9e0be15",
   "metadata": {},
   "source": [
    "\n",
    "\n",
    "\n",
    "    "
   ]
  },
  {
   "cell_type": "markdown",
   "id": "a5e66dfd-5d46-4cf9-83b6-0b62ec184fea",
   "metadata": {},
   "source": [
    "\n"
   ]
  },
  {
   "cell_type": "code",
   "execution_count": 53,
   "id": "44f36995-29c5-444d-aaae-db356fabce96",
   "metadata": {
    "scrolled": true
   },
   "outputs": [
    {
     "name": "stdin",
     "output_type": "stream",
     "text": [
      "enter no seperated by space 1\n"
     ]
    }
   ],
   "source": [
    "#Write a Python program that prompts the user to input a list of integers and raises an exception if any of the integers in the list are negative.\n",
    "n=input(\"enter no seperated by space\")\n",
    "\n",
    "num=[int(i) for i in n.split()]\n",
    "for j in num:\n",
    "    if j<0:\n",
    "         raise ValueError(j,\"Negative value\")"
   ]
  },
  {
   "cell_type": "code",
   "execution_count": 74,
   "id": "72a9b26f-7c9b-4458-aa3b-5005de547e03",
   "metadata": {
    "scrolled": true
   },
   "outputs": [
    {
     "name": "stdin",
     "output_type": "stream",
     "text": [
      "Enter number of integer to find average 3\n",
      "enter numbers k\n"
     ]
    },
    {
     "name": "stdout",
     "output_type": "stream",
     "text": [
      "Enter a numbers\n",
      "Finished Running\n"
     ]
    }
   ],
   "source": [
    " '''Write a Python program that prompts the user to input a list of integers and computes the average of those integers. Use try-except \n",
    "blocks to handle any exceptions that might occur.use the finally clause to print a message indicating that the program has finished \n",
    "running'''\n",
    "try:\n",
    "    count=int(input(\"Enter number of integer to find average\"))\n",
    "    sum=0\n",
    "    for i in range(1,count+1):\n",
    "        numbers=int(input(\"enter numbers\"))\n",
    "        sum=sum+numbers\n",
    "    avg=sum/count\n",
    "    print(\"Average:\",avg)\n",
    "except ZeroDivisionError:\n",
    "    print(\"Enter a integer\") \n",
    "except ValueError:\n",
    "    print(\"Enter a numbers\")\n",
    "finally:\n",
    "    print(\"Finished Running\")"
   ]
  },
  {
   "cell_type": "code",
   "execution_count": 108,
   "id": "a9aacc07-634d-4497-89be-3fe7a32b2a87",
   "metadata": {},
   "outputs": [
    {
     "name": "stdin",
     "output_type": "stream",
     "text": [
      "Enter the path to file nwefile.txt\n",
      "Enter string : goodmorning\n"
     ]
    }
   ],
   "source": [
    "''' Write a Python program that prompts the user to input a filename and writes a string to that file. Use try-except blocks to handle any exceptions \n",
    "that might occur and print a welcome message if there is no exception occurred. '''\n",
    "try:\n",
    "    path=input(\"Enter the path to file\")\n",
    "    with open(path,\"w\") as f1:\n",
    "        string=input(\"Enter string :\")\n",
    "        f1.write(string)\n",
    "        \n",
    "        \n",
    "except FileNotFoundError:\n",
    "    print(\"Enter valid Path\")\n",
    "\n"
   ]
  },
  {
   "cell_type": "code",
   "execution_count": null,
   "id": "1e9d840d-0762-4695-bdb7-61dc07235601",
   "metadata": {},
   "outputs": [],
   "source": [
    "\n"
   ]
  },
  {
   "cell_type": "code",
   "execution_count": null,
   "id": "804ddab3-2d02-4296-822a-b312789db4f7",
   "metadata": {},
   "outputs": [],
   "source": []
  },
  {
   "cell_type": "markdown",
   "id": "6037ebaf-49b3-42a9-b9c6-ee34946eeb4c",
   "metadata": {},
   "source": []
  },
  {
   "cell_type": "code",
   "execution_count": null,
   "id": "6defa0c3-12c2-4ce9-9128-57f84779f5e7",
   "metadata": {},
   "outputs": [],
   "source": []
  },
  {
   "cell_type": "code",
   "execution_count": null,
   "id": "079a1df2-1551-4bd8-8293-d603738c3887",
   "metadata": {},
   "outputs": [],
   "source": []
  },
  {
   "cell_type": "code",
   "execution_count": null,
   "id": "384cc0fe-87ce-47c4-81e6-f351a5adef9b",
   "metadata": {},
   "outputs": [],
   "source": []
  },
  {
   "cell_type": "code",
   "execution_count": null,
   "id": "9bcf8fa7-00b0-44c7-8a3e-664885d8caf7",
   "metadata": {},
   "outputs": [],
   "source": []
  },
  {
   "cell_type": "code",
   "execution_count": null,
   "id": "014a2fa7-c0b7-4725-9963-fbf5b888eaee",
   "metadata": {},
   "outputs": [],
   "source": []
  },
  {
   "cell_type": "code",
   "execution_count": null,
   "id": "e87deb81-97e4-479b-bd49-968d312301b2",
   "metadata": {},
   "outputs": [],
   "source": []
  },
  {
   "cell_type": "code",
   "execution_count": null,
   "id": "3984e630-ab00-478c-aa5f-c04950dd8588",
   "metadata": {},
   "outputs": [],
   "source": []
  },
  {
   "cell_type": "code",
   "execution_count": null,
   "id": "e32352f1-55b8-43a6-b4d9-151aab457b0c",
   "metadata": {},
   "outputs": [],
   "source": []
  },
  {
   "cell_type": "code",
   "execution_count": null,
   "id": "34275b0a-2a8d-40e2-a5f5-675fb25bc9f1",
   "metadata": {},
   "outputs": [],
   "source": []
  }
 ],
 "metadata": {
  "kernelspec": {
   "display_name": "Python 3 (ipykernel)",
   "language": "python",
   "name": "python3"
  },
  "language_info": {
   "codemirror_mode": {
    "name": "ipython",
    "version": 3
   },
   "file_extension": ".py",
   "mimetype": "text/x-python",
   "name": "python",
   "nbconvert_exporter": "python",
   "pygments_lexer": "ipython3",
   "version": "3.12.7"
  }
 },
 "nbformat": 4,
 "nbformat_minor": 5
}
