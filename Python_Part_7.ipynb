{
 "cells": [
  {
   "cell_type": "code",
   "execution_count": 47,
   "id": "8e77d2bb-0402-4202-9f5e-3aef2b96f9ce",
   "metadata": {},
   "outputs": [
    {
     "name": "stdout",
     "output_type": "stream",
     "text": [
      "[ 1  2  3  4  5  6  7  8  9 10]\n"
     ]
    },
    {
     "data": {
      "text/plain": [
       "array([[ 1,  2,  3,  4,  5],\n",
       "       [ 6,  7,  8,  9, 10]])"
      ]
     },
     "execution_count": 47,
     "metadata": {},
     "output_type": "execute_result"
    }
   ],
   "source": [
    "## Create a numpy array containing the numbers from 1 to 10, and then reshape it to a 2x5 matrix.\n",
    "import numpy as np\n",
    "a=np.array([1,2,3,4,5,6,7,8,9,10])\n",
    "print(a)\n",
    "a2=a.reshape(2,5)\n",
    "a2\n"
   ]
  },
  {
   "cell_type": "code",
   "execution_count": 20,
   "id": "ab4ada0a-0742-4898-b28c-525224b4dca0",
   "metadata": {},
   "outputs": [
    {
     "name": "stdout",
     "output_type": "stream",
     "text": [
      "[ 6  7  8  9 10 11 12 13 14 15]\n"
     ]
    }
   ],
   "source": [
    "## Create a numpy array containing the numbers from 1 to 20, and then extract the elements between the 5th and 15th index.\n",
    "ar=np.arange(1,21)\n",
    "b=ar[5:15]\n",
    "print(b)"
   ]
  },
  {
   "cell_type": "code",
   "execution_count": 46,
   "id": "a4e48771-aa66-4089-b09c-cb06f435255d",
   "metadata": {},
   "outputs": [
    {
     "name": "stdout",
     "output_type": "stream",
     "text": [
      "apples     3\n",
      "bananas    2\n",
      "oranges    1\n",
      "pears      4\n",
      "dtype: int64\n"
     ]
    }
   ],
   "source": [
    "##Create a Pandas series with the following data: {'apples': 3, 'bananas': 2, 'oranges': 1}. Then, add a new item to the series with the key 'pears'\n",
    " ##and the value 4. \n",
    "\n",
    "import pandas as pd\n",
    "s=pd.Series({'apples': 3, 'bananas': 2, 'oranges': 1})\n",
    "s['pears']=4\n",
    "print(s)\n"
   ]
  },
  {
   "cell_type": "code",
   "execution_count": 53,
   "id": "75e89db3-0783-404f-a577-d19fb617364b",
   "metadata": {},
   "outputs": [
    {
     "name": "stdout",
     "output_type": "stream",
     "text": [
      "    Name  Age gender\n",
      "0    Anu   23      F\n",
      "1   Manu   30      M\n",
      "2   Tanu   20      F\n",
      "3   Jack   23      M\n",
      "4  marry   30      F\n",
      "5  Jeena   30      F\n",
      "6   liya   30      f\n",
      "7   John   31      M\n",
      "8  Ethen   24      M\n",
      "9  Meena   25      F\n"
     ]
    }
   ],
   "source": [
    "## Create a dataframe with the following columns: name, age, and gender. The dataframe should have 10 rows of data.\n",
    "d=[\n",
    "    [\"Anu\",23,\"F\"],\n",
    "    [\"Manu\",30,\"M\"],\n",
    "    [\"Tanu\",20,\"F\"],\n",
    "    [\"Jack\",23,\"M\"],\n",
    "    [\"marry\",30,\"F\"],\n",
    "    [\"Jeena\",30,\"F\"],\n",
    "    [\"liya\",30,\"f\"],\n",
    "    [\"John\",31,\"M\"],\n",
    "    [\"Ethen\",24,\"M\"],\n",
    "    [\"Meena\",25,\"F\"]\n",
    "]\n",
    "df=pd.DataFrame(d,columns=[\"Name\",\"Age\",\"gender\"])\n",
    "print(df)\n"
   ]
  },
  {
   "cell_type": "code",
   "execution_count": 60,
   "id": "abb90e43-c91e-4d9e-aa03-01f1e69e6f6c",
   "metadata": {},
   "outputs": [
    {
     "data": {
      "text/html": [
       "<div>\n",
       "<style scoped>\n",
       "    .dataframe tbody tr th:only-of-type {\n",
       "        vertical-align: middle;\n",
       "    }\n",
       "\n",
       "    .dataframe tbody tr th {\n",
       "        vertical-align: top;\n",
       "    }\n",
       "\n",
       "    .dataframe thead th {\n",
       "        text-align: right;\n",
       "    }\n",
       "</style>\n",
       "<table border=\"1\" class=\"dataframe\">\n",
       "  <thead>\n",
       "    <tr style=\"text-align: right;\">\n",
       "      <th></th>\n",
       "      <th>Name</th>\n",
       "      <th>Age</th>\n",
       "      <th>gender</th>\n",
       "      <th>Occupation</th>\n",
       "    </tr>\n",
       "  </thead>\n",
       "  <tbody>\n",
       "    <tr>\n",
       "      <th>0</th>\n",
       "      <td>Anu</td>\n",
       "      <td>23</td>\n",
       "      <td>F</td>\n",
       "      <td>Programmer</td>\n",
       "    </tr>\n",
       "    <tr>\n",
       "      <th>1</th>\n",
       "      <td>Manu</td>\n",
       "      <td>30</td>\n",
       "      <td>M</td>\n",
       "      <td>Manager</td>\n",
       "    </tr>\n",
       "    <tr>\n",
       "      <th>2</th>\n",
       "      <td>Tanu</td>\n",
       "      <td>20</td>\n",
       "      <td>F</td>\n",
       "      <td>Analyst</td>\n",
       "    </tr>\n",
       "    <tr>\n",
       "      <th>3</th>\n",
       "      <td>Jack</td>\n",
       "      <td>23</td>\n",
       "      <td>M</td>\n",
       "      <td>Programmer</td>\n",
       "    </tr>\n",
       "    <tr>\n",
       "      <th>4</th>\n",
       "      <td>marry</td>\n",
       "      <td>30</td>\n",
       "      <td>F</td>\n",
       "      <td>Manager</td>\n",
       "    </tr>\n",
       "    <tr>\n",
       "      <th>5</th>\n",
       "      <td>Jeena</td>\n",
       "      <td>30</td>\n",
       "      <td>F</td>\n",
       "      <td>Analyst</td>\n",
       "    </tr>\n",
       "    <tr>\n",
       "      <th>6</th>\n",
       "      <td>liya</td>\n",
       "      <td>30</td>\n",
       "      <td>f</td>\n",
       "      <td>Programmer</td>\n",
       "    </tr>\n",
       "    <tr>\n",
       "      <th>7</th>\n",
       "      <td>John</td>\n",
       "      <td>31</td>\n",
       "      <td>M</td>\n",
       "      <td>Manager</td>\n",
       "    </tr>\n",
       "    <tr>\n",
       "      <th>8</th>\n",
       "      <td>Ethen</td>\n",
       "      <td>24</td>\n",
       "      <td>M</td>\n",
       "      <td>Analyst</td>\n",
       "    </tr>\n",
       "    <tr>\n",
       "      <th>9</th>\n",
       "      <td>Meena</td>\n",
       "      <td>25</td>\n",
       "      <td>F</td>\n",
       "      <td>manager</td>\n",
       "    </tr>\n",
       "  </tbody>\n",
       "</table>\n",
       "</div>"
      ],
      "text/plain": [
       "    Name  Age gender  Occupation\n",
       "0    Anu   23      F  Programmer\n",
       "1   Manu   30      M     Manager\n",
       "2   Tanu   20      F     Analyst\n",
       "3   Jack   23      M  Programmer\n",
       "4  marry   30      F     Manager\n",
       "5  Jeena   30      F     Analyst\n",
       "6   liya   30      f  Programmer\n",
       "7   John   31      M     Manager\n",
       "8  Ethen   24      M     Analyst\n",
       "9  Meena   25      F     manager"
      ]
     },
     "execution_count": 60,
     "metadata": {},
     "output_type": "execute_result"
    }
   ],
   "source": [
    "## Add a new column to the data frame created in question 1, called occupation. The values for this column should be Programmer, Manager, and Analyst,\n",
    "#. corresponding to the rows in the  dataframe\n",
    "\n",
    "df['Occupation']=['Programmer','Manager','Analyst','Programmer','Manager','Analyst','Programmer','Manager','Analyst','manager']\n",
    "df"
   ]
  },
  {
   "cell_type": "code",
   "execution_count": 70,
   "id": "5f51c58d-e366-47cd-92c1-f9a9da164598",
   "metadata": {},
   "outputs": [
    {
     "data": {
      "text/html": [
       "<div>\n",
       "<style scoped>\n",
       "    .dataframe tbody tr th:only-of-type {\n",
       "        vertical-align: middle;\n",
       "    }\n",
       "\n",
       "    .dataframe tbody tr th {\n",
       "        vertical-align: top;\n",
       "    }\n",
       "\n",
       "    .dataframe thead th {\n",
       "        text-align: right;\n",
       "    }\n",
       "</style>\n",
       "<table border=\"1\" class=\"dataframe\">\n",
       "  <thead>\n",
       "    <tr style=\"text-align: right;\">\n",
       "      <th></th>\n",
       "      <th>Name</th>\n",
       "      <th>Age</th>\n",
       "      <th>gender</th>\n",
       "      <th>Occupation</th>\n",
       "    </tr>\n",
       "  </thead>\n",
       "  <tbody>\n",
       "    <tr>\n",
       "      <th>1</th>\n",
       "      <td>Manu</td>\n",
       "      <td>30</td>\n",
       "      <td>M</td>\n",
       "      <td>Manager</td>\n",
       "    </tr>\n",
       "    <tr>\n",
       "      <th>4</th>\n",
       "      <td>marry</td>\n",
       "      <td>30</td>\n",
       "      <td>F</td>\n",
       "      <td>Manager</td>\n",
       "    </tr>\n",
       "    <tr>\n",
       "      <th>5</th>\n",
       "      <td>Jeena</td>\n",
       "      <td>30</td>\n",
       "      <td>F</td>\n",
       "      <td>Analyst</td>\n",
       "    </tr>\n",
       "    <tr>\n",
       "      <th>6</th>\n",
       "      <td>liya</td>\n",
       "      <td>30</td>\n",
       "      <td>f</td>\n",
       "      <td>Programmer</td>\n",
       "    </tr>\n",
       "    <tr>\n",
       "      <th>7</th>\n",
       "      <td>John</td>\n",
       "      <td>31</td>\n",
       "      <td>M</td>\n",
       "      <td>Manager</td>\n",
       "    </tr>\n",
       "  </tbody>\n",
       "</table>\n",
       "</div>"
      ],
      "text/plain": [
       "    Name  Age gender  Occupation\n",
       "1   Manu   30      M     Manager\n",
       "4  marry   30      F     Manager\n",
       "5  Jeena   30      F     Analyst\n",
       "6   liya   30      f  Programmer\n",
       "7   John   31      M     Manager"
      ]
     },
     "execution_count": 70,
     "metadata": {},
     "output_type": "execute_result"
    }
   ],
   "source": [
    "### Select the rows of the dataframe where the age is greater than or equal to 30.\n",
    "s=df[df['Age']>=30]\n",
    "s"
   ]
  },
  {
   "cell_type": "code",
   "execution_count": 87,
   "id": "c0086277-543b-4d28-a428-829f742c7f37",
   "metadata": {},
   "outputs": [
    {
     "name": "stdout",
     "output_type": "stream",
     "text": [
      "   Unnamed: 0   Name  Age gender  Occupation\n",
      "0           0    Anu   23      F  Programmer\n",
      "1           1   Manu   30      M     Manager\n",
      "2           2   Tanu   20      F     Analyst\n",
      "3           3   Jack   23      M  Programmer\n",
      "4           4  marry   30      F     Manager\n",
      "5           5  Jeena   30      F     Analyst\n",
      "6           6   liya   30      f  Programmer\n",
      "7           7   John   31      M     Manager\n",
      "8           8  Ethen   24      M     Analyst\n",
      "9           9  Meena   25      F     manager\n"
     ]
    }
   ],
   "source": [
    "## Convert this dataframe to a csv file and read that csv file, finally display the contents.\n",
    " # convert to csv\n",
    "df.to_csv(\"DataFrameExample.csv\")\n",
    "\n",
    "# Reading csv file\n",
    "r=pd.read_csv(\"DataFrameExample.csv\")\n",
    "\n",
    "\n",
    "# printin g csv file\n",
    "print(r)\n"
   ]
  },
  {
   "cell_type": "code",
   "execution_count": null,
   "id": "54f67a13-0221-4bc7-8eab-70648d8b3717",
   "metadata": {},
   "outputs": [],
   "source": []
  },
  {
   "cell_type": "code",
   "execution_count": null,
   "id": "b7287349-4c89-49be-b392-22c6f7e6e230",
   "metadata": {},
   "outputs": [],
   "source": []
  },
  {
   "cell_type": "code",
   "execution_count": null,
   "id": "2318023d-e72a-48e5-80e8-861d192967ad",
   "metadata": {},
   "outputs": [],
   "source": []
  },
  {
   "cell_type": "code",
   "execution_count": null,
   "id": "2cc508ae-02b6-411a-80f4-ca213b07853e",
   "metadata": {},
   "outputs": [],
   "source": []
  },
  {
   "cell_type": "code",
   "execution_count": null,
   "id": "c3e72fb0-d530-4b4c-92d4-948cd5ea34e7",
   "metadata": {},
   "outputs": [],
   "source": []
  },
  {
   "cell_type": "code",
   "execution_count": null,
   "id": "edcd8728-39cc-4ec2-a00e-7143866a06c3",
   "metadata": {},
   "outputs": [],
   "source": []
  },
  {
   "cell_type": "code",
   "execution_count": null,
   "id": "9b2d1c21-641a-4cf4-ad38-141435c18bd0",
   "metadata": {},
   "outputs": [],
   "source": []
  },
  {
   "cell_type": "code",
   "execution_count": null,
   "id": "6c5734fa-fb3f-43f0-bddb-e79d8a4ba212",
   "metadata": {},
   "outputs": [],
   "source": []
  }
 ],
 "metadata": {
  "kernelspec": {
   "display_name": "Python 3 (ipykernel)",
   "language": "python",
   "name": "python3"
  },
  "language_info": {
   "codemirror_mode": {
    "name": "ipython",
    "version": 3
   },
   "file_extension": ".py",
   "mimetype": "text/x-python",
   "name": "python",
   "nbconvert_exporter": "python",
   "pygments_lexer": "ipython3",
   "version": "3.12.7"
  }
 },
 "nbformat": 4,
 "nbformat_minor": 5
}
