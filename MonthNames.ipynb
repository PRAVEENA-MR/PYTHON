{
 "cells": [
  {
   "cell_type": "code",
   "execution_count": 24,
   "id": "62c14e57-661a-45b3-b603-bf14a95fbe87",
   "metadata": {},
   "outputs": [
    {
     "name": "stdin",
     "output_type": "stream",
     "text": [
      "Enter number Between 1 and 12 14\n"
     ]
    },
    {
     "name": "stdout",
     "output_type": "stream",
     "text": [
      "Invalid number, Enter numers between 1 and 12\n"
     ]
    }
   ],
   "source": [
    "'''\n",
    "Exercise 1\n",
    "Name your file: MonthNames.py\n",
    "Write a program that reads an integer value between 1 and 12 from the user and prints output the corresponding month of the year.\n",
    "An example run of the program (numbers in bold are typed in by the user)\n",
    "Enter the month: 3\n",
    "Month 3 is March '''\n",
    "\n",
    "d={1:\"January\",2:\"February\",3:\"March\",4:\"April\",5:\"May\",6:\"June\",7:\"July\",8:\"August\",9:\"September\",10:\"October\",11:\"November\",12:\"December\"}\n",
    "n=int(input(\"Enter number Between 1 and 12\"))\n",
    "if n in range(1,13):\n",
    "    print(\"Month \",n,\"is \",d[n])\n",
    "else:\n",
    "    print(\"Invalid number, Enter numers between 1 and 12\")\n"
   ]
  },
  {
   "cell_type": "code",
   "execution_count": null,
   "id": "0df768c8-1e6e-4ff7-9742-5ae3f8e3c687",
   "metadata": {},
   "outputs": [],
   "source": []
  }
 ],
 "metadata": {
  "kernelspec": {
   "display_name": "Python 3 (ipykernel)",
   "language": "python",
   "name": "python3"
  },
  "language_info": {
   "codemirror_mode": {
    "name": "ipython",
    "version": 3
   },
   "file_extension": ".py",
   "mimetype": "text/x-python",
   "name": "python",
   "nbconvert_exporter": "python",
   "pygments_lexer": "ipython3",
   "version": "3.12.7"
  }
 },
 "nbformat": 4,
 "nbformat_minor": 5
}
