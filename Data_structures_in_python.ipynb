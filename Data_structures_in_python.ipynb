{
 "cells": [
  {
   "cell_type": "code",
   "execution_count": 27,
   "id": "ff91b3a2-d6f5-48ff-a2b5-3763856b4bcc",
   "metadata": {},
   "outputs": [
    {
     "name": "stdout",
     "output_type": "stream",
     "text": [
      "[12, 45, 78, 96, 23]\n",
      "Updated list is [12, 45, 78, 96, 23, 20, 35, 47]\n",
      "12\n",
      "45\n",
      "78\n",
      "96\n",
      "23\n",
      "20\n",
      "35\n",
      "47\n"
     ]
    }
   ],
   "source": [
    "''' Topic :List\n",
    "Exercise\n",
    "Q1. Create a list of 5 random numbers and print the list.\n",
    "Q2. Insert 3 new values to the list and print the updated list.\n",
    "Q3. Try to use a for loop to print each element in the list  '''\n",
    "\n",
    "##  Q1\n",
    "l=[12,45,78,96,23]\n",
    "print(l)\n",
    "\n",
    "## Q2\n",
    "l.extend([20,35,47])\n",
    "print(\"Updated list is\",l)\n",
    "\n",
    "## Q3\n",
    "for i in l:\n",
    "    print(i)"
   ]
  },
  {
   "cell_type": "code",
   "execution_count": 16,
   "id": "2ad86370-7829-4bbc-933c-2e9e8b6479dc",
   "metadata": {},
   "outputs": [
    {
     "name": "stdout",
     "output_type": "stream",
     "text": [
      "{'name': 'John', 'age': 25, 'address': 'New York'}\n",
      "{'name': 'John', 'age': 25, 'address': 'New York', 'Phone': 1234567890}\n"
     ]
    }
   ],
   "source": [
    "''' \n",
    "Topic: Dictionary\n",
    "Exercise \n",
    "Q1. Create a dictionary with keys 'name', 'age', and 'address' and values 'John', 25, and 'New York' respectively.\n",
    "Q2. Add a new key-value pair to the dictionary created in Q1 with key 'phone' and value '1234567890'.'''\n",
    "\n",
    "## Q1  \n",
    "d={\"name\":\"John\",\"age\":25,\"address\":\"New York\"}\n",
    "print(d)\n",
    "\n",
    "## Q2\n",
    "d.update({\"Phone\":1234567890})\n",
    "print(d)"
   ]
  },
  {
   "cell_type": "code",
   "execution_count": 21,
   "id": "24edea94-3fd1-4812-9e35-1485fa1ecd6f",
   "metadata": {},
   "outputs": [
    {
     "name": "stdout",
     "output_type": "stream",
     "text": [
      "{1, 2, 3, 4, 5}\n",
      "{1, 2, 3, 4, 5, 6}\n",
      "{1, 2, 4, 5, 6}\n"
     ]
    }
   ],
   "source": [
    "''' Topic: Set\n",
    "Exercise  \n",
    "Q1.Create a set with values 1, 2, 3, 4, and 5.\n",
    "Q2. Add the value 6 to the set created in Q1.\n",
    "Q3. Remove the value 3 from the set created in Q1. '''\n",
    "\n",
    "## Q1\n",
    "s={1,2,3,4,5}\n",
    "print(s)\n",
    "## Q2\n",
    "s.add(6)\n",
    "print(s)\n",
    "## Q3\n",
    "s.remove(3)\n",
    "print(s)\n"
   ]
  },
  {
   "cell_type": "code",
   "execution_count": 26,
   "id": "7399048c-e7a8-440a-846e-49c9b9e07b49",
   "metadata": {},
   "outputs": [
    {
     "name": "stdout",
     "output_type": "stream",
     "text": [
      "(1, 2, 3, 4)\n",
      "Length of tuple is  4\n"
     ]
    }
   ],
   "source": [
    "''' Topic:Tuple\n",
    "Exercise \n",
    "Q1. Create a tuple with values 1, 2, 3, and 4\n",
    "Q2. Print the length of the tuple created in Q1. '''\n",
    "## Q1\n",
    "t=1,2,3,4\n",
    "print(t)\n",
    "\n",
    "## Q2\n",
    "print(\"Length of tuple is \",len(t))\n",
    "\n"
   ]
  },
  {
   "cell_type": "code",
   "execution_count": null,
   "id": "424b57c7-6042-45d6-9714-a45a3cf5779c",
   "metadata": {},
   "outputs": [],
   "source": []
  },
  {
   "cell_type": "code",
   "execution_count": null,
   "id": "0d23179d-9673-426c-b81c-efe12d0e6cbe",
   "metadata": {},
   "outputs": [],
   "source": []
  },
  {
   "cell_type": "code",
   "execution_count": null,
   "id": "c503a34c-69ea-4a68-a623-26002f0bfce9",
   "metadata": {},
   "outputs": [],
   "source": []
  },
  {
   "cell_type": "code",
   "execution_count": null,
   "id": "85bc3f93-45c6-4b04-a517-38edc26ed5cd",
   "metadata": {},
   "outputs": [],
   "source": []
  },
  {
   "cell_type": "code",
   "execution_count": null,
   "id": "6e7fec28-41fc-4101-9e5a-634311ec5381",
   "metadata": {},
   "outputs": [],
   "source": []
  },
  {
   "cell_type": "code",
   "execution_count": null,
   "id": "4f911dc9-bb78-4216-aa40-12e9593085a1",
   "metadata": {},
   "outputs": [],
   "source": []
  },
  {
   "cell_type": "code",
   "execution_count": null,
   "id": "878baa31-f872-48c9-b602-c1d6c9d9b4c9",
   "metadata": {},
   "outputs": [],
   "source": []
  },
  {
   "cell_type": "code",
   "execution_count": null,
   "id": "a4a37175-8e34-41d1-a8af-fb386d67b282",
   "metadata": {},
   "outputs": [],
   "source": []
  }
 ],
 "metadata": {
  "kernelspec": {
   "display_name": "Python 3 (ipykernel)",
   "language": "python",
   "name": "python3"
  },
  "language_info": {
   "codemirror_mode": {
    "name": "ipython",
    "version": 3
   },
   "file_extension": ".py",
   "mimetype": "text/x-python",
   "name": "python",
   "nbconvert_exporter": "python",
   "pygments_lexer": "ipython3",
   "version": "3.12.7"
  }
 },
 "nbformat": 4,
 "nbformat_minor": 5
}
