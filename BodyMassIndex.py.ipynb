{
 "cells": [
  {
   "cell_type": "code",
   "execution_count": 6,
   "id": "5aa0c3e1-8d61-423b-88e4-7cca785d8589",
   "metadata": {},
   "outputs": [
    {
     "name": "stdin",
     "output_type": "stream",
     "text": [
      "Enter your weight in kilograms 100\n",
      "Enter your height in meters 1800\n"
     ]
    },
    {
     "name": "stdout",
     "output_type": "stream",
     "text": [
      "your BMI is: 0\n",
      "You are \"underweight\" range\n"
     ]
    }
   ],
   "source": [
    "''' a program to calculate your BMI and give weight status. Body Mass Index (BMI) is an internationally used measurement to check if you are \n",
    "a healthy weight for your height.The metric BMI formula accepts weight in kilograms and height in meters\n",
    "'''\n",
    "w=int(input(\"Enter your weight in kilograms\"))\n",
    "h=float(input(\"Enter your height in meters\"))\n",
    "bmi=w/h**2\n",
    "print(\"your BMI is:\",round(bmi))\n",
    "if bmi<18.5:\n",
    "    print('''You are \"underweight\" range''')\n",
    "elif 18.5<=bmi<=24.9:\n",
    "    print('''You are \"Normal\" range''')\n",
    "elif 25<=bmi<=29:\n",
    "    print('''You are \"overweight\" range''')\n",
    "elif bmi>=30:\n",
    "    print('''You are \"obese\" range''')\n"
   ]
  },
  {
   "cell_type": "code",
   "execution_count": null,
   "id": "a7d586f7-3d30-47a0-b83a-d109ca020389",
   "metadata": {},
   "outputs": [],
   "source": []
  },
  {
   "cell_type": "code",
   "execution_count": null,
   "id": "cc7e8c6d-4623-4cbd-bafd-879ff53b3c88",
   "metadata": {},
   "outputs": [],
   "source": []
  }
 ],
 "metadata": {
  "kernelspec": {
   "display_name": "Python 3 (ipykernel)",
   "language": "python",
   "name": "python3"
  },
  "language_info": {
   "codemirror_mode": {
    "name": "ipython",
    "version": 3
   },
   "file_extension": ".py",
   "mimetype": "text/x-python",
   "name": "python",
   "nbconvert_exporter": "python",
   "pygments_lexer": "ipython3",
   "version": "3.12.7"
  }
 },
 "nbformat": 4,
 "nbformat_minor": 5
}
