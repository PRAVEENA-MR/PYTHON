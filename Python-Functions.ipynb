{
 "cells": [
  {
   "cell_type": "code",
   "execution_count": 2,
   "id": "cd914e5b-39d0-4e00-8746-f0563e2bddab",
   "metadata": {},
   "outputs": [
    {
     "data": {
      "text/plain": [
       "9"
      ]
     },
     "execution_count": 2,
     "metadata": {},
     "output_type": "execute_result"
    }
   ],
   "source": [
    "### 1. What does the len() function do in Python? Write a code example using len() to find the length of a list.\n",
    "\n",
    "a=[10,20,45,36,8,9,4,85,7]\n",
    "len(a)\n",
    "## len() used to find lenght or no.of elements in a data structure here list 'a' contains 9 items \n",
    " "
   ]
  },
  {
   "cell_type": "code",
   "execution_count": null,
   "id": "9ade4234-1848-4f3e-9740-feddb8563190",
   "metadata": {},
   "outputs": [],
   "source": [
    "### 2. Write a Python function greet(name) that takes a person's name as input and prints \"Hello, [name]!\"."
   ]
  },
  {
   "cell_type": "code",
   "execution_count": 3,
   "id": "7e0e4a91-bfcb-4d74-9f69-e971f73811de",
   "metadata": {},
   "outputs": [
    {
     "name": "stdin",
     "output_type": "stream",
     "text": [
      "Enter your name ayaan\n"
     ]
    },
    {
     "name": "stdout",
     "output_type": "stream",
     "text": [
      "hello ayaan\n"
     ]
    }
   ],
   "source": [
    "def greet():\n",
    "    n=input(\"Enter your name\")\n",
    "    print(\"hello\",n)\n",
    "\n",
    "greet()"
   ]
  },
  {
   "cell_type": "code",
   "execution_count": 2,
   "id": "3931c8ed-ab6d-4ab0-af33-1987e076fdba",
   "metadata": {},
   "outputs": [
    {
     "name": "stdout",
     "output_type": "stream",
     "text": [
      "96\n"
     ]
    }
   ],
   "source": [
    "''' 3.Write a Python function find_maximum(numbers) that takes a list of integers and returns the maximum value without using the built-in max()\n",
    "function.Use a loop to iterate through the list and compare values. '''\n",
    "\n",
    "def find_maximum(*n):\n",
    "    max=n[0]\n",
    "    for i in n:\n",
    "        if i>max:\n",
    "            max=i\n",
    "        \n",
    "    print (max)\n",
    "\n",
    "find_maximum(10,5,5,74,86,85,1,47,96)\n",
    "    "
   ]
  },
  {
   "cell_type": "code",
   "execution_count": 8,
   "id": "e73f0669-8228-4ae5-a4aa-631d8886aa01",
   "metadata": {},
   "outputs": [
    {
     "name": "stdout",
     "output_type": "stream",
     "text": [
      "value of local variable ,'a' is 200\n",
      "values of global variable 'a' is 100\n"
     ]
    }
   ],
   "source": [
    "''' Explain the difference between local and global variables in a Python function. Write a program where a global variable and a local variable\n",
    "have the same name and show how Python differentiates between them.'''\n",
    " ###   A global variable declared outside function and have access or scope all over the program ,A local variable declared inside a function or block \n",
    "###  of code and  have scope inside that function only\n",
    "\n",
    "a=100    # global variable\n",
    "def local_var():\n",
    "    a=200    # local variable\n",
    "    print(\"value of local variable ,'a' is\",a)  # printing value of local variable 'a', which is inside the function ie,200 \n",
    "\n",
    "local_var()\n",
    "print(\"values of global variable 'a' is\",a)  # printing value of global variable 'a', outside  the function ie,100\n",
    "\n",
    "\n",
    "    \n"
   ]
  },
  {
   "cell_type": "code",
   "execution_count": 12,
   "id": "23c2dd8d-f7e7-43aa-937e-68e483af6e36",
   "metadata": {},
   "outputs": [
    {
     "name": "stdout",
     "output_type": "stream",
     "text": [
      "area of rectangle is   25\n",
      "area of rectangle is   24\n"
     ]
    }
   ],
   "source": [
    "'''Create a function calculate_area(length, width=5) that calculates the area of a rectangle. If only the length is provided,\n",
    "the function should assume the width is 5. Show how the function behaves when called with and without the width argument.\n",
    "'''\n",
    "\n",
    "def area (l,w=5):\n",
    "    a=l*w\n",
    "    print(\"area of rectangle is  \",a)\n",
    "\n",
    "area(5)\n",
    "area(4,6)\n",
    "\n"
   ]
  },
  {
   "cell_type": "code",
   "execution_count": null,
   "id": "db4a75aa-caf1-458a-ad0e-5ef4f116a5ba",
   "metadata": {},
   "outputs": [],
   "source": []
  },
  {
   "cell_type": "code",
   "execution_count": null,
   "id": "5b7ed77c-9d66-4d10-8050-99d9d47bcf8e",
   "metadata": {},
   "outputs": [],
   "source": []
  }
 ],
 "metadata": {
  "kernelspec": {
   "display_name": "Python 3 (ipykernel)",
   "language": "python",
   "name": "python3"
  },
  "language_info": {
   "codemirror_mode": {
    "name": "ipython",
    "version": 3
   },
   "file_extension": ".py",
   "mimetype": "text/x-python",
   "name": "python",
   "nbconvert_exporter": "python",
   "pygments_lexer": "ipython3",
   "version": "3.12.7"
  }
 },
 "nbformat": 4,
 "nbformat_minor": 5
}
