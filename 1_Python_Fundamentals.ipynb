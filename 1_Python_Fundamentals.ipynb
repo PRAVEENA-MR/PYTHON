{
 "cells": [
  {
   "cell_type": "code",
   "execution_count": 7,
   "id": "eddb8e28-4166-4fea-8286-ed7f28fe9088",
   "metadata": {},
   "outputs": [
    {
     "name": "stdout",
     "output_type": "stream",
     "text": [
      "Praveena ST033 prave@me.com\n"
     ]
    }
   ],
   "source": [
    "''' Python Fundamentals\n",
    "\n",
    "Exercise 1  \n",
    "Write Python code that prints your name, student number and email address.  \n",
    "An example runs of the program:  \n",
    "Bob \n",
    "ST1001 \n",
    "bob@gmail.com\n",
    "'''\n",
    "print(\"Praveena\\n\",\"ST033\\n\",\"prave@me.com\")"
   ]
  },
  {
   "cell_type": "code",
   "execution_count": 10,
   "id": "7953d6dc-5fee-4946-9e94-bdceafec9787",
   "metadata": {},
   "outputs": [
    {
     "name": "stdout",
     "output_type": "stream",
     "text": [
      "Praveena\n",
      " ST033\n",
      " prave@me.com\n"
     ]
    }
   ],
   "source": [
    "''' Exercise 2 \n",
    "Write Python code that prints your name, student number and email address using escape sequences.     \n",
    "An example runs of the program: \n",
    "Bob \n",
    "ST1001 \n",
    "bob@gmail.com \n",
    "'''\n",
    "\n",
    "print(\"Praveena\\n\",\"ST033\\n\",\"prave@me.com\")"
   ]
  },
  {
   "cell_type": "code",
   "execution_count": 13,
   "id": "f2757a59-9a68-43b0-8ee0-76c824b39c1d",
   "metadata": {},
   "outputs": [
    {
     "name": "stdout",
     "output_type": "stream",
     "text": [
      "14+7= 21 \n",
      "14*7= 98 \n",
      "14-7= 7 \n",
      "14/7= 2.0\n"
     ]
    }
   ],
   "source": [
    "'''  Exercise 3 \n",
    "Write Python code that add, subtract, multiply and divide the two numbers. You can use the two numbers 14 and 7.  An example run of the program:  \n",
    "14 + 7 = 21 \n",
    "14 * 7 = 98 \n",
    "14 – 7 = 7 \n",
    "14 / 7 = 2 \n",
    "'''\n",
    "print(\"14+7=\",14+7,\"\\n14*7=\",14*7,\"\\n14-7=\",14-7,\"\\n14/7=\",14/7)"
   ]
  },
  {
   "cell_type": "code",
   "execution_count": 23,
   "id": "e2632926-c120-4607-a348-a8db956475d0",
   "metadata": {},
   "outputs": [
    {
     "name": "stdout",
     "output_type": "stream",
     "text": [
      "\n",
      "1 \n",
      "2 \n",
      "3 \n",
      "4 \n",
      "5\n"
     ]
    }
   ],
   "source": [
    "'''  Exercise 4\n",
    "Write Python code that displays the numbers from 1 to 5 as steps. \n",
    "An example runs of the program: \n",
    "1 \n",
    "2 \n",
    "3 \n",
    "4 \n",
    "5\n",
    "'''\n",
    "print(\"\\n1\",\"\\n2\",\"\\n3\",\"\\n4\",\"\\n5\")"
   ]
  },
  {
   "cell_type": "code",
   "execution_count": 28,
   "id": "0f024f7b-ef0b-4769-94a9-dbc918e3d8df",
   "metadata": {},
   "outputs": [
    {
     "name": "stdout",
     "output_type": "stream",
     "text": [
      " \"SDK\" stands for \"Software Development Kit\", whereas \n",
      " \"IDE\" stands for \"Integrated Development Environment\". \n"
     ]
    }
   ],
   "source": [
    "''' Exercise 5\n",
    "Write Python code that outputs the following sentence (including the quotation marks and line break) to the screen: \n",
    "An example runs of the program:  \n",
    "\"SDK\" stands for \"Software Development Kit\", whereas \n",
    "\"IDE\" stands for \"Integrated Development Environment\". \n",
    "'''\n",
    "\n",
    "print(\"\"\" \"SDK\" stands for \"Software Development Kit\", whereas \\n \"IDE\" stands for \"Integrated Development Environment\" \"\"\")\n"
   ]
  },
  {
   "cell_type": "code",
   "execution_count": 29,
   "id": "93c9dcb2-9e2d-459a-a7f8-7688e1addcfa",
   "metadata": {},
   "outputs": [
    {
     "name": "stdout",
     "output_type": "stream",
     "text": [
      "python is an \"awesome\" language.\n"
     ]
    }
   ],
   "source": [
    "''' \n",
    "Exercise 6\n",
    "Practice and check the output\n",
    "print(\"python is an \\\"awesome\\\" language.\")\n",
    "'''\n",
    "print(\"python is an \\\"awesome\\\" language.\")"
   ]
  },
  {
   "cell_type": "code",
   "execution_count": null,
   "id": "304b7a47-8f60-49b8-9270-8794263f05f0",
   "metadata": {},
   "outputs": [],
   "source": []
  }
 ],
 "metadata": {
  "kernelspec": {
   "display_name": "Python 3 (ipykernel)",
   "language": "python",
   "name": "python3"
  },
  "language_info": {
   "codemirror_mode": {
    "name": "ipython",
    "version": 3
   },
   "file_extension": ".py",
   "mimetype": "text/x-python",
   "name": "python",
   "nbconvert_exporter": "python",
   "pygments_lexer": "ipython3",
   "version": "3.12.7"
  }
 },
 "nbformat": 4,
 "nbformat_minor": 5
}
