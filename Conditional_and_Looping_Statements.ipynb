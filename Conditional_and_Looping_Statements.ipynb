{
 "cells": [
  {
   "cell_type": "code",
   "execution_count": 6,
   "id": "5aa0c3e1-8d61-423b-88e4-7cca785d8589",
   "metadata": {},
   "outputs": [
    {
     "name": "stdin",
     "output_type": "stream",
     "text": [
      "enter your age: 60\n"
     ]
    },
    {
     "name": "stdout",
     "output_type": "stream",
     "text": [
      "Your ticket cost is £ 2.0\n"
     ]
    }
   ],
   "source": [
    "''' Exercise 2\n",
    "A certain cinema currently sells tickets for a full price of 6 pounds, but always sells tickets for half price to people who are less than 16 years old,\n",
    "and for a third of the price for people who are 60 years old or more.\n",
    "An example run of the program (numbers in bold are typed in by the user)\n",
    "Enter your age: 63\n",
    "Your ticket costs £2.00'''\n",
    "t=6    ## current ticket price\n",
    "n=int(input(\"enter your age:\"))\n",
    "if n in range(1,17):\n",
    "    print(\"Your ticket cost £\",t/2)\n",
    "elif n in range(60,150):\n",
    "    print(\"Your ticket cost is £\",t/3)\n",
    "else:\n",
    "    print(\"Your Ticket cost is £\",t)\n",
    "\n"
   ]
  },
  {
   "cell_type": "code",
   "execution_count": 5,
   "id": "a6155413-9528-4324-95c0-9a967ffa9c7c",
   "metadata": {},
   "outputs": [
    {
     "name": "stdin",
     "output_type": "stream",
     "text": [
      "Enter your first number 10\n",
      "Enter your first number 20\n",
      "Enter your first number 30\n"
     ]
    },
    {
     "name": "stdout",
     "output_type": "stream",
     "text": [
      "The greatest number is: 30\n"
     ]
    }
   ],
   "source": [
    "### Exercise 4\n",
    "#Write a Python program to receive 3 numbers from the user and print the greatest among them\n",
    "a=int(input(\"Enter your first number\"))\n",
    "b=int(input(\"Enter your first number\"))\n",
    "c=int(input(\"Enter your first number\"))\n",
    "if a>b and a>c:\n",
    "    print(\"The greatest number is:\",a)\n",
    "elif(b>a and b>c):\n",
    "    print(\"The greatest number is:\",b)\n",
    "else:\n",
    "    print(\"The greatest number is:\",c)\n",
    "\n",
    "\n",
    "\n"
   ]
  },
  {
   "cell_type": "code",
   "execution_count": 7,
   "id": "4d045144-65a4-486b-9111-aa44b7ba9255",
   "metadata": {},
   "outputs": [
    {
     "name": "stdin",
     "output_type": "stream",
     "text": [
      "Enter a number to calculate factorial  10\n"
     ]
    },
    {
     "name": "stdout",
     "output_type": "stream",
     "text": [
      "factorial of 10  is  3628800\n"
     ]
    }
   ],
   "source": [
    "### Exercise 5\n",
    "# Find the factorial of a given number using loops(note the number is received from the user)\n",
    "n=int(input(\"Enter a number to calculate factorial \"))\n",
    "f=1\n",
    "for i in range(1,n+1):\n",
    "    f*=i\n",
    "\n",
    "print(\"factorial of\",n,\" is \",f)\n",
    "\n"
   ]
  },
  {
   "cell_type": "code",
   "execution_count": 11,
   "id": "03f30c2c-cc8b-40d0-b266-7763c47fdda5",
   "metadata": {},
   "outputs": [
    {
     "name": "stdin",
     "output_type": "stream",
     "text": [
      "Enter a number:  123\n"
     ]
    },
    {
     "name": "stdout",
     "output_type": "stream",
     "text": [
      "321\n"
     ]
    }
   ],
   "source": [
    "\n"
   ]
  },
  {
   "cell_type": "code",
   "execution_count": 15,
   "id": "7be65dba-f551-4ceb-a380-79712c18a5f2",
   "metadata": {},
   "outputs": [
    {
     "name": "stdin",
     "output_type": "stream",
     "text": [
      "enter no 123\n"
     ]
    },
    {
     "name": "stdout",
     "output_type": "stream",
     "text": [
      "321\n"
     ]
    }
   ],
   "source": [
    "### Exercise 6\n",
    "#Reverse a number using while loop\n",
    "no=int(input(\"enter no\"))\n",
    "rev=0\n",
    "while no!=0:\n",
    "    last_digit=no % 10\n",
    "    rev=rev*10+last_digit\n",
    "    no=no//10\n",
    "print(rev)"
   ]
  },
  {
   "cell_type": "code",
   "execution_count": 31,
   "id": "3ab47512-39de-47f7-8fab-9a67b4651582",
   "metadata": {},
   "outputs": [
    {
     "name": "stdin",
     "output_type": "stream",
     "text": [
      "enter string: hoi\n"
     ]
    },
    {
     "name": "stdout",
     "output_type": "stream",
     "text": [
      "hoi\n"
     ]
    },
    {
     "name": "stdin",
     "output_type": "stream",
     "text": [
      "enter string: koi\n"
     ]
    },
    {
     "name": "stdout",
     "output_type": "stream",
     "text": [
      "koi\n"
     ]
    },
    {
     "name": "stdin",
     "output_type": "stream",
     "text": [
      "enter string: done\n"
     ]
    },
    {
     "name": "stdout",
     "output_type": "stream",
     "text": [
      "done\n",
      "Done\n"
     ]
    }
   ],
   "source": [
    "''' Exercise 8\n",
    "Write a program to print the inputted value as it is and break the loop if the value is 'done'.\n",
    "Example run of the program\n",
    ":hello there\n",
    "hello there\n",
    ":finished\n",
    "finished\n",
    ":done\n",
    "Done\n",
    "'''\n",
    "while True:\n",
    "\n",
    "    string=input(\"enter string:\")\n",
    "    print(string)\n",
    "    if string == 'done':\n",
    "        print(\"Done\")\n",
    "        break\n",
    "    \n",
    "\n"
   ]
  },
  {
   "cell_type": "code",
   "execution_count": 35,
   "id": "13fad68e-c253-4179-a185-025a4e65f060",
   "metadata": {},
   "outputs": [
    {
     "name": "stdout",
     "output_type": "stream",
     "text": [
      "1\n",
      "2\n",
      "Fizz\n",
      "4\n",
      "Buzz\n",
      "Fizz\n",
      "7\n",
      "8\n",
      "Fizz\n",
      "Buzz\n"
     ]
    }
   ],
   "source": [
    "#  Exercise 9\n",
    "# Write a program that prints the numbers from 1 to 10. But for multiples of three print \"Fizz\" instead of the number and for the multiple of five print \"Buzz\". For numbers which are multiples of both three and five print \"FizzBuzz\"\n",
    "for i in range(1,11):\n",
    "    if i%3 == 0:\n",
    "        print(\"Fizz\")\n",
    "\n",
    "    elif i%5 == 0: \n",
    "        print(\"Buzz\")\n",
    "\n",
    "    elif i%3==0 and i%5==0:\n",
    "        print(\"fizzBuzz\")\n",
    "    else :\n",
    "        print(i)\n",
    "\n"
   ]
  },
  {
   "cell_type": "code",
   "execution_count": 39,
   "id": "8f2b95fb-2b76-4d44-8378-d878737d6bda",
   "metadata": {},
   "outputs": [
    {
     "name": "stdout",
     "output_type": "stream",
     "text": [
      "5 4 3 2 1 \n",
      "4 3 2 1 \n",
      "3 2 1 \n",
      "2 1 \n",
      "1 \n"
     ]
    }
   ],
   "source": [
    "''' Write a program to print the following pattern:\n",
    "\n",
    "5 4 3 2 1\n",
    "4 3 2 1\n",
    "3 2 1\n",
    "2 1\n",
    "1\n",
    "'''\n",
    "print(\"5 4 3 2 1 \\n4 3 2 1 \\n3 2 1 \\n2 1 \\n1 \")\n",
    "\n"
   ]
  },
  {
   "cell_type": "code",
   "execution_count": null,
   "id": "8f46bc99-8205-40b4-b1dd-9660b0c0a611",
   "metadata": {},
   "outputs": [],
   "source": []
  },
  {
   "cell_type": "code",
   "execution_count": null,
   "id": "e87ed5a0-e5d6-40c5-9b96-f2818d66aa4b",
   "metadata": {},
   "outputs": [],
   "source": []
  },
  {
   "cell_type": "code",
   "execution_count": null,
   "id": "5f0ca981-7036-4d98-895e-50e61db0e588",
   "metadata": {},
   "outputs": [],
   "source": []
  },
  {
   "cell_type": "code",
   "execution_count": null,
   "id": "c8c8a952-1415-4ebf-8a8b-c0ad4b9c5e9f",
   "metadata": {},
   "outputs": [],
   "source": []
  },
  {
   "cell_type": "code",
   "execution_count": null,
   "id": "e7f982ef-8caf-4ef0-b613-8c5750e5c801",
   "metadata": {},
   "outputs": [],
   "source": []
  },
  {
   "cell_type": "code",
   "execution_count": null,
   "id": "51c5e177-2dca-48cc-b462-003d014d4ea6",
   "metadata": {},
   "outputs": [],
   "source": []
  },
  {
   "cell_type": "code",
   "execution_count": null,
   "id": "bca4a803-da48-47b2-a4ef-7eb4c95fca4c",
   "metadata": {},
   "outputs": [],
   "source": []
  }
 ],
 "metadata": {
  "kernelspec": {
   "display_name": "Python 3 (ipykernel)",
   "language": "python",
   "name": "python3"
  },
  "language_info": {
   "codemirror_mode": {
    "name": "ipython",
    "version": 3
   },
   "file_extension": ".py",
   "mimetype": "text/x-python",
   "name": "python",
   "nbconvert_exporter": "python",
   "pygments_lexer": "ipython3",
   "version": "3.12.7"
  }
 },
 "nbformat": 4,
 "nbformat_minor": 5
}
